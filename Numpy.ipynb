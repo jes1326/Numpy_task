{
 "cells": [
  {
   "cell_type": "code",
   "execution_count": 92,
   "id": "b20db8db-1a00-465a-b8aa-7fb71f267ad0",
   "metadata": {},
   "outputs": [],
   "source": [
    "import numpy as np\n",
    "import random\n",
    "from numpy.linalg import norm"
   ]
  },
  {
   "cell_type": "code",
   "execution_count": 63,
   "id": "d8efe4af-5bc6-4e12-809c-da63f35349a4",
   "metadata": {},
   "outputs": [],
   "source": [
    "data = [2,43,11,56,74,23,88,1,94]"
   ]
  },
  {
   "cell_type": "code",
   "execution_count": 64,
   "id": "e723fd43-7b91-4eba-863d-0d4fc329ca7c",
   "metadata": {},
   "outputs": [],
   "source": [
    "mean = np.mean(data)"
   ]
  },
  {
   "cell_type": "code",
   "execution_count": 65,
   "id": "b3d1d2cf-fc7b-4221-800a-92ebf9ae79ae",
   "metadata": {},
   "outputs": [
    {
     "data": {
      "text/plain": [
       "43.55555555555556"
      ]
     },
     "execution_count": 65,
     "metadata": {},
     "output_type": "execute_result"
    }
   ],
   "source": [
    "mean"
   ]
  },
  {
   "cell_type": "code",
   "execution_count": 66,
   "id": "c50d2f94-0c36-4ad0-b71d-a31446b9cae4",
   "metadata": {},
   "outputs": [],
   "source": [
    "standard_deviation = np.std(data)"
   ]
  },
  {
   "cell_type": "code",
   "execution_count": 67,
   "id": "b3e93689-90bd-4786-af35-0100092a14e5",
   "metadata": {},
   "outputs": [
    {
     "data": {
      "text/plain": [
       "34.354721852756235"
      ]
     },
     "execution_count": 67,
     "metadata": {},
     "output_type": "execute_result"
    }
   ],
   "source": [
    "standard_deviation"
   ]
  },
  {
   "cell_type": "code",
   "execution_count": 68,
   "id": "b01708b4-38d9-47c8-af4b-31e0cc1f53b2",
   "metadata": {},
   "outputs": [],
   "source": [
    "matrix = np.random.randint(1,100,size=(5,5))"
   ]
  },
  {
   "cell_type": "code",
   "execution_count": 69,
   "id": "98403862-e323-4b47-bf5e-eb18f1481d84",
   "metadata": {},
   "outputs": [
    {
     "data": {
      "text/plain": [
       "array([[50, 64,  3, 14, 30],\n",
       "       [93, 59, 66,  7, 16],\n",
       "       [87, 24, 83, 64,  1],\n",
       "       [19, 70, 81, 50, 78],\n",
       "       [52, 46, 10, 12, 17]])"
      ]
     },
     "execution_count": 69,
     "metadata": {},
     "output_type": "execute_result"
    }
   ],
   "source": [
    "matrix"
   ]
  },
  {
   "cell_type": "code",
   "execution_count": 70,
   "id": "8129169d-382e-4301-a26f-8f53384b0682",
   "metadata": {},
   "outputs": [
    {
     "data": {
      "text/plain": [
       "93"
      ]
     },
     "execution_count": 70,
     "metadata": {},
     "output_type": "execute_result"
    }
   ],
   "source": [
    "np.max(matrix)"
   ]
  },
  {
   "cell_type": "code",
   "execution_count": 71,
   "id": "94a66932-94fb-495f-88b4-3a886698dd58",
   "metadata": {},
   "outputs": [
    {
     "data": {
      "text/plain": [
       "1"
      ]
     },
     "execution_count": 71,
     "metadata": {},
     "output_type": "execute_result"
    }
   ],
   "source": [
    "np.min(matrix)"
   ]
  },
  {
   "cell_type": "code",
   "execution_count": 72,
   "id": "c8679a1d-bf15-4111-b373-bce2c09be591",
   "metadata": {},
   "outputs": [],
   "source": [
    "max_col = np.max(matrix, axis=0)"
   ]
  },
  {
   "cell_type": "code",
   "execution_count": 73,
   "id": "068a3f89-5170-4773-9373-764999457a61",
   "metadata": {},
   "outputs": [],
   "source": [
    "min_col = np.min(matrix, axis=0)"
   ]
  },
  {
   "cell_type": "code",
   "execution_count": 74,
   "id": "f438f290-5552-4741-bc66-b73ff1fd14ce",
   "metadata": {},
   "outputs": [
    {
     "data": {
      "text/plain": [
       "array([93, 70, 83, 64, 78])"
      ]
     },
     "execution_count": 74,
     "metadata": {},
     "output_type": "execute_result"
    }
   ],
   "source": [
    "max_col"
   ]
  },
  {
   "cell_type": "code",
   "execution_count": 75,
   "id": "4dbe96c5-fedf-44e1-90ed-467b9bcb3d88",
   "metadata": {},
   "outputs": [
    {
     "data": {
      "text/plain": [
       "array([19, 24,  3,  7,  1])"
      ]
     },
     "execution_count": 75,
     "metadata": {},
     "output_type": "execute_result"
    }
   ],
   "source": [
    "min_col"
   ]
  },
  {
   "cell_type": "code",
   "execution_count": 80,
   "id": "ef2cd53b-67e0-4a22-a70c-1df71592eb6c",
   "metadata": {},
   "outputs": [],
   "source": [
    "max_rows = np.max(matrix[0]),np.max(matrix[1]),np.max(matrix[2]),np.max(matrix[3]),np.max(matrix[4])"
   ]
  },
  {
   "cell_type": "code",
   "execution_count": 81,
   "id": "10d36fa0-2535-4944-bac4-76c80efe2180",
   "metadata": {},
   "outputs": [],
   "source": [
    "min_rows = np.min(matrix[0]),np.min(matrix[1]),np.min(matrix[2]),np.min(matrix[3]),np.min(matrix[4])"
   ]
  },
  {
   "cell_type": "code",
   "execution_count": 82,
   "id": "4b1a0097-630c-4e96-842f-3941adc3630f",
   "metadata": {},
   "outputs": [
    {
     "data": {
      "text/plain": [
       "(64, 93, 87, 81, 52)"
      ]
     },
     "execution_count": 82,
     "metadata": {},
     "output_type": "execute_result"
    }
   ],
   "source": [
    "max_rows"
   ]
  },
  {
   "cell_type": "code",
   "execution_count": 83,
   "id": "1eff900d-b786-4f38-a21a-0ebaae2223e3",
   "metadata": {},
   "outputs": [
    {
     "data": {
      "text/plain": [
       "(3, 7, 1, 19, 10)"
      ]
     },
     "execution_count": 83,
     "metadata": {},
     "output_type": "execute_result"
    }
   ],
   "source": [
    "min_rows"
   ]
  },
  {
   "cell_type": "code",
   "execution_count": 93,
   "id": "98262b48-f9c9-4596-b6c4-043d3ef6002e",
   "metadata": {},
   "outputs": [],
   "source": [
    "a = np.array([2,4,6,8,10])\n",
    "b = np.array([12,14,16,18,20])"
   ]
  },
  {
   "cell_type": "code",
   "execution_count": 95,
   "id": "c52aefdc-1f50-4231-a53d-9f1c652f4731",
   "metadata": {},
   "outputs": [],
   "source": [
    "cosine_similarity=np.dot(a,b) / (norm(a)*norm(b))"
   ]
  },
  {
   "cell_type": "code",
   "execution_count": 97,
   "id": "ad11c483-a605-4849-bcb7-d0b98d0cc5d1",
   "metadata": {},
   "outputs": [
    {
     "data": {
      "text/plain": [
       "(array([ 2,  4,  6,  8, 10]), array([12, 14, 16, 18, 20]), 0.9649505047327671)"
      ]
     },
     "execution_count": 97,
     "metadata": {},
     "output_type": "execute_result"
    }
   ],
   "source": [
    "a,b,cosine_similarity"
   ]
  }
 ],
 "metadata": {
  "kernelspec": {
   "display_name": "Python 3 (ipykernel)",
   "language": "python",
   "name": "python3"
  },
  "language_info": {
   "codemirror_mode": {
    "name": "ipython",
    "version": 3
   },
   "file_extension": ".py",
   "mimetype": "text/x-python",
   "name": "python",
   "nbconvert_exporter": "python",
   "pygments_lexer": "ipython3",
   "version": "3.11.2"
  }
 },
 "nbformat": 4,
 "nbformat_minor": 5
}
